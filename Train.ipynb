{
 "cells": [
  {
   "cell_type": "code",
   "execution_count": 3,
   "metadata": {},
   "outputs": [],
   "source": [
    "# Keras implementation of text classifier with custom Embedding and \n",
    "# This code implements character level and word level encodings\n",
    "# \n",
    "# Author: Karthik D\n",
    "\n",
    "%matplotlib inline\n",
    "import pandas as pd\n",
    "import numpy as np\n",
    "import tensorflow as tf\n",
    "from numpy import array\n",
    "import matplotlib.pyplot as plt\n",
    "from keras.preprocessing.text import Tokenizer\n",
    "from keras.preprocessing.sequence import pad_sequences\n",
    "from numpy import array_equal\n",
    "from keras.models import Sequential\n",
    "from keras_self_attention import SeqSelfAttention\n",
    "from sklearn.model_selection import train_test_split\n",
    "from keras import layers\n",
    "from keras.models import Model, Input\n",
    "from keras.layers import LSTM, Embedding, Dense, TimeDistributed, Dropout, Flatten, RepeatVector\n",
    "from keras.layers import Bidirectional, concatenate, SpatialDropout1D\n",
    "from keras.layers.normalization import BatchNormalization\n",
    "from keras.models import load_model\n",
    "from collections import Counter\n",
    "\n",
    "import random\n",
    "import statistics\n",
    "import text_utils as tu\n",
    "import modeling_utils as mu\n",
    "\n",
    "plt.style.use('ggplot')"
   ]
  },
  {
   "cell_type": "code",
   "execution_count": 4,
   "metadata": {},
   "outputs": [
    {
     "name": "stdout",
     "output_type": "stream",
     "text": [
      "(13000, 7)\n"
     ]
    }
   ],
   "source": [
    "# Read datas\n",
    "data = pd.read_csv('ml_test_dataset_13K.csv')\n",
    "print(data.shape)"
   ]
  },
  {
   "cell_type": "code",
   "execution_count": 5,
   "metadata": {},
   "outputs": [],
   "source": [
    "# Some variables\n",
    "seed = 1234\n",
    "THRESHOLD = 5 #threshold for uncommon character count cut off\n",
    "\n",
    "n_classes = data.category_name.nunique()\n",
    "random.seed(seed)\n",
    "np.random.seed(seed)\n",
    "tf.compat.v1.random.set_random_seed(seed)"
   ]
  },
  {
   "cell_type": "markdown",
   "metadata": {},
   "source": [
    "# DV Distribution"
   ]
  },
  {
   "cell_type": "code",
   "execution_count": 6,
   "metadata": {
    "scrolled": false
   },
   "outputs": [
    {
     "data": {
      "text/html": [
       "<div>\n",
       "<style scoped>\n",
       "    .dataframe tbody tr th:only-of-type {\n",
       "        vertical-align: middle;\n",
       "    }\n",
       "\n",
       "    .dataframe tbody tr th {\n",
       "        vertical-align: top;\n",
       "    }\n",
       "\n",
       "    .dataframe thead th {\n",
       "        text-align: right;\n",
       "    }\n",
       "</style>\n",
       "<table border=\"1\" class=\"dataframe\">\n",
       "  <thead>\n",
       "    <tr style=\"text-align: right;\">\n",
       "      <th>category_name</th>\n",
       "      <th>0</th>\n",
       "      <th>1</th>\n",
       "      <th>2</th>\n",
       "      <th>3</th>\n",
       "      <th>4</th>\n",
       "      <th>5</th>\n",
       "      <th>6</th>\n",
       "      <th>7</th>\n",
       "      <th>8</th>\n",
       "      <th>9</th>\n",
       "      <th>10</th>\n",
       "      <th>11</th>\n",
       "      <th>12</th>\n",
       "    </tr>\n",
       "  </thead>\n",
       "  <tbody>\n",
       "    <tr>\n",
       "      <th>counts</th>\n",
       "      <td>1050.00</td>\n",
       "      <td>1028.00</td>\n",
       "      <td>965.00</td>\n",
       "      <td>1035.00</td>\n",
       "      <td>971.00</td>\n",
       "      <td>970.00</td>\n",
       "      <td>1017.00</td>\n",
       "      <td>1048.00</td>\n",
       "      <td>992.00</td>\n",
       "      <td>989.00</td>\n",
       "      <td>947.00</td>\n",
       "      <td>1002.00</td>\n",
       "      <td>986.00</td>\n",
       "    </tr>\n",
       "    <tr>\n",
       "      <th>perc (%)</th>\n",
       "      <td>8.08</td>\n",
       "      <td>7.91</td>\n",
       "      <td>7.42</td>\n",
       "      <td>7.96</td>\n",
       "      <td>7.47</td>\n",
       "      <td>7.46</td>\n",
       "      <td>7.82</td>\n",
       "      <td>8.06</td>\n",
       "      <td>7.63</td>\n",
       "      <td>7.61</td>\n",
       "      <td>7.28</td>\n",
       "      <td>7.71</td>\n",
       "      <td>7.58</td>\n",
       "    </tr>\n",
       "  </tbody>\n",
       "</table>\n",
       "</div>"
      ],
      "text/plain": [
       "category_name       0        1       2        3       4       5        6   \\\n",
       "counts         1050.00  1028.00  965.00  1035.00  971.00  970.00  1017.00   \n",
       "perc (%)          8.08     7.91    7.42     7.96    7.47    7.46     7.82   \n",
       "\n",
       "category_name       7       8       9       10       11      12  \n",
       "counts         1048.00  992.00  989.00  947.00  1002.00  986.00  \n",
       "perc (%)          8.06    7.63    7.61    7.28     7.71    7.58  "
      ]
     },
     "execution_count": 6,
     "metadata": {},
     "output_type": "execute_result"
    }
   ],
   "source": [
    "# One hot encode category\n",
    "data['y'] = mu.onehot_encode(data.category_name)\n",
    "mu.get_dv_dist(data,'id', 'category_name')"
   ]
  },
  {
   "cell_type": "markdown",
   "metadata": {},
   "source": [
    "# Data Cleaning"
   ]
  },
  {
   "cell_type": "code",
   "execution_count": 7,
   "metadata": {
    "scrolled": false
   },
   "outputs": [
    {
     "name": "stdout",
     "output_type": "stream",
     "text": [
      "Max [word] sequence length: 67\n",
      "size of data: 13000\n"
     ]
    }
   ],
   "source": [
    "# Basic cleaning - removing some characters from raw text\n",
    "data['purpose_clean'] = data.purpose.str.replace(r'[0-9!@$%^&*()+_,\\\\\\-:/.]', \"\").fillna('')\n",
    "data['counterpart_name_clean'] = data.counterpart_name.str.replace(r'[0-9!@$%^&*()+_,\\\\\\-:/.]', \"\").fillna('')\n",
    "\n",
    "# Combine purpose and counterpart as one feature\n",
    "data['x_char'] = data.purpose.str.replace(r'[0-9\\\\\\-]', \"\").fillna('').str.lower() + \" \" + data.counterpart_name.str.replace(r'[0-9\\\\\\-]', \"\").fillna('').str.lower()\n",
    "data['x_word'] = data.purpose_clean.str.lower() + \" \" + data.counterpart_name_clean.str.lower()\n",
    "\n",
    "dev = data.dropna(how='any')\n",
    "\n",
    "# Calculate max length of text\n",
    "max_seq_length = dev.x_word.str.strip().str.split().apply(len).max()\n",
    "print(\"Max [word] sequence length:\", max_seq_length)\n",
    "   \n",
    "print(\"size of data:\", len(dev.x_word))"
   ]
  },
  {
   "cell_type": "markdown",
   "metadata": {},
   "source": [
    "# Find the most frequent tokens"
   ]
  },
  {
   "cell_type": "code",
   "execution_count": 8,
   "metadata": {},
   "outputs": [
    {
     "data": {
      "text/plain": [
       "[('num', 15955),\n",
       " ('letnum', 4307),\n",
       " ('datetime', 2388),\n",
       " ('gmbh', 1887),\n",
       " ('sdate', 1834)]"
      ]
     },
     "execution_count": 8,
     "metadata": {},
     "output_type": "execute_result"
    }
   ],
   "source": [
    "Counter(\" \".join(dev[\"x_char\"]).split()).most_common(5)\n",
    "Counter(\" \".join(dev[\"x_word\"]).split()).most_common(5)"
   ]
  },
  {
   "cell_type": "code",
   "execution_count": 9,
   "metadata": {},
   "outputs": [
    {
     "data": {
      "text/html": [
       "<div>\n",
       "<style scoped>\n",
       "    .dataframe tbody tr th:only-of-type {\n",
       "        vertical-align: middle;\n",
       "    }\n",
       "\n",
       "    .dataframe tbody tr th {\n",
       "        vertical-align: top;\n",
       "    }\n",
       "\n",
       "    .dataframe thead th {\n",
       "        text-align: right;\n",
       "    }\n",
       "</style>\n",
       "<table border=\"1\" class=\"dataframe\">\n",
       "  <thead>\n",
       "    <tr style=\"text-align: right;\">\n",
       "      <th></th>\n",
       "      <th>x_word_letnum</th>\n",
       "      <th>x_word_num</th>\n",
       "      <th>x_word_datetime</th>\n",
       "      <th>x_word_gmbh</th>\n",
       "    </tr>\n",
       "    <tr>\n",
       "      <th>category_name</th>\n",
       "      <th></th>\n",
       "      <th></th>\n",
       "      <th></th>\n",
       "      <th></th>\n",
       "    </tr>\n",
       "  </thead>\n",
       "  <tbody>\n",
       "    <tr>\n",
       "      <th>0</th>\n",
       "      <td>195</td>\n",
       "      <td>540</td>\n",
       "      <td>10</td>\n",
       "      <td>120</td>\n",
       "    </tr>\n",
       "    <tr>\n",
       "      <th>1</th>\n",
       "      <td>512</td>\n",
       "      <td>878</td>\n",
       "      <td>573</td>\n",
       "      <td>12</td>\n",
       "    </tr>\n",
       "    <tr>\n",
       "      <th>2</th>\n",
       "      <td>124</td>\n",
       "      <td>632</td>\n",
       "      <td>8</td>\n",
       "      <td>261</td>\n",
       "    </tr>\n",
       "    <tr>\n",
       "      <th>3</th>\n",
       "      <td>294</td>\n",
       "      <td>730</td>\n",
       "      <td>111</td>\n",
       "      <td>220</td>\n",
       "    </tr>\n",
       "    <tr>\n",
       "      <th>4</th>\n",
       "      <td>264</td>\n",
       "      <td>610</td>\n",
       "      <td>300</td>\n",
       "      <td>82</td>\n",
       "    </tr>\n",
       "    <tr>\n",
       "      <th>5</th>\n",
       "      <td>231</td>\n",
       "      <td>542</td>\n",
       "      <td>16</td>\n",
       "      <td>69</td>\n",
       "    </tr>\n",
       "    <tr>\n",
       "      <th>6</th>\n",
       "      <td>299</td>\n",
       "      <td>599</td>\n",
       "      <td>417</td>\n",
       "      <td>293</td>\n",
       "    </tr>\n",
       "    <tr>\n",
       "      <th>7</th>\n",
       "      <td>299</td>\n",
       "      <td>582</td>\n",
       "      <td>290</td>\n",
       "      <td>346</td>\n",
       "    </tr>\n",
       "    <tr>\n",
       "      <th>8</th>\n",
       "      <td>181</td>\n",
       "      <td>469</td>\n",
       "      <td>179</td>\n",
       "      <td>57</td>\n",
       "    </tr>\n",
       "    <tr>\n",
       "      <th>9</th>\n",
       "      <td>195</td>\n",
       "      <td>685</td>\n",
       "      <td>346</td>\n",
       "      <td>76</td>\n",
       "    </tr>\n",
       "    <tr>\n",
       "      <th>10</th>\n",
       "      <td>271</td>\n",
       "      <td>620</td>\n",
       "      <td>98</td>\n",
       "      <td>135</td>\n",
       "    </tr>\n",
       "    <tr>\n",
       "      <th>11</th>\n",
       "      <td>420</td>\n",
       "      <td>916</td>\n",
       "      <td>1</td>\n",
       "      <td>12</td>\n",
       "    </tr>\n",
       "    <tr>\n",
       "      <th>12</th>\n",
       "      <td>311</td>\n",
       "      <td>715</td>\n",
       "      <td>39</td>\n",
       "      <td>184</td>\n",
       "    </tr>\n",
       "  </tbody>\n",
       "</table>\n",
       "</div>"
      ],
      "text/plain": [
       "               x_word_letnum  x_word_num  x_word_datetime  x_word_gmbh\n",
       "category_name                                                         \n",
       "0                        195         540               10          120\n",
       "1                        512         878              573           12\n",
       "2                        124         632                8          261\n",
       "3                        294         730              111          220\n",
       "4                        264         610              300           82\n",
       "5                        231         542               16           69\n",
       "6                        299         599              417          293\n",
       "7                        299         582              290          346\n",
       "8                        181         469              179           57\n",
       "9                        195         685              346           76\n",
       "10                       271         620               98          135\n",
       "11                       420         916                1           12\n",
       "12                       311         715               39          184"
      ]
     },
     "execution_count": 9,
     "metadata": {},
     "output_type": "execute_result"
    }
   ],
   "source": [
    "# Count the number of occurances of a key in col by category\n",
    "def count_word_by_DV(df, gp_by_col, x_col, s):\n",
    "    c_nums_word = dev.groupby([gp_by_col])[x_col].apply(lambda x: x[x.str.contains(s)].count())\n",
    "    c_nums_word = c_nums_word.rename(c_nums_word.name+\"_\"+s)\n",
    "    return c_nums_word\n",
    "    \n",
    "pd.concat([ \\\n",
    "           count_word_by_DV(dev, 'category_name', 'x_word', 'letnum'),\\\n",
    "           count_word_by_DV(dev, 'category_name', 'x_word', 'num'),\\\n",
    "           count_word_by_DV(dev, 'category_name', 'x_word', 'datetime'),\\\n",
    "           count_word_by_DV(dev, 'category_name', 'x_word', 'gmbh')\\\n",
    "          ], axis=1)\n"
   ]
  },
  {
   "cell_type": "markdown",
   "metadata": {},
   "source": [
    "Since the tokens \"num\" and \"letnum\" are most frequent and have low variability w.r.t the DV, we shall remove these tokens "
   ]
  },
  {
   "cell_type": "code",
   "execution_count": 10,
   "metadata": {},
   "outputs": [],
   "source": [
    "# Remove noisy text\n",
    "dev.x_char = dev.x_char.str.replace(\"LETNUM\", \"\").str.replace(\"NUM\", \"\")\n",
    "dev.x_char = dev.x_char.str.replace(\"letnum\", \"\").str.replace(\"num\", \"\")\n",
    "dev.x_word = dev.x_char.str.replace(\"letnum\", \"\").str.replace(\"num\", \"\")"
   ]
  },
  {
   "cell_type": "markdown",
   "metadata": {},
   "source": [
    "# Make Word level Tensors"
   ]
  },
  {
   "cell_type": "code",
   "execution_count": 11,
   "metadata": {},
   "outputs": [
    {
     "name": "stdout",
     "output_type": "stream",
     "text": [
      "Vocab size: 16228\n",
      "X word sequence tensor shape: (13000, 70)\n",
      "y shape: (13000, 13)\n"
     ]
    }
   ],
   "source": [
    "# Setting max padded sequence length = 70\n",
    "max_len = 70\n",
    "vocab = tu.make_vocab(dev.x_word)\n",
    "w2i = tu.make_w2i(vocab)\n",
    "\n",
    "x_word = tu.make_tensor_np(dev.x_word, w2i, max_len)\n",
    "y = np.stack(dev.y.to_numpy())\n",
    "\n",
    "print(\"X word sequence tensor shape:\", x_word.shape)\n",
    "print(\"y shape:\", y.shape)"
   ]
  },
  {
   "cell_type": "markdown",
   "metadata": {},
   "source": [
    "# Make Char level Tensors"
   ]
  },
  {
   "cell_type": "code",
   "execution_count": 12,
   "metadata": {},
   "outputs": [
    {
     "name": "stdout",
     "output_type": "stream",
     "text": [
      "Unique symbols: 34\n"
     ]
    }
   ],
   "source": [
    "unique_symbols, uncommon_symbols = tu.get_characters(dev.x_char, 5)\n",
    "\n",
    "# Replace Uncommon chars with a placeholder:\n",
    "DUMMY = uncommon_symbols[0]\n",
    "tr_table = str.maketrans(\"\".join(uncommon_symbols), DUMMY * len(uncommon_symbols))\n",
    "dev['x_char'] = dev.x_char.apply(lambda x: x.translate(tr_table))"
   ]
  },
  {
   "cell_type": "markdown",
   "metadata": {},
   "source": [
    "## Tokenize the character sequences"
   ]
  },
  {
   "cell_type": "code",
   "execution_count": 13,
   "metadata": {},
   "outputs": [],
   "source": [
    "# We will need the number of unique symbols further down when we will decide on the dimensionality of inputs.\n",
    "num_unique_symbols = len(unique_symbols) - len(uncommon_symbols) + 1 \n",
    "\n",
    "tokenizer = Tokenizer(\n",
    "    char_level=True,\n",
    "    filters=None,\n",
    "    lower=False,\n",
    "    num_words=num_unique_symbols\n",
    ")\n",
    "\n",
    "tokenizer.fit_on_texts(dev.x_char)\n",
    "char_sequences = tokenizer.texts_to_sequences(dev.x_char)"
   ]
  },
  {
   "cell_type": "code",
   "execution_count": 14,
   "metadata": {},
   "outputs": [
    {
     "name": "stdout",
     "output_type": "stream",
     "text": [
      "51.0\n"
     ]
    }
   ],
   "source": [
    "print(statistics.median([len(x) for x in char_sequences]))\n",
    "max_char_seq_len = 70"
   ]
  },
  {
   "cell_type": "markdown",
   "metadata": {},
   "source": [
    "## Get padded character sequences"
   ]
  },
  {
   "cell_type": "code",
   "execution_count": 15,
   "metadata": {},
   "outputs": [
    {
     "data": {
      "text/plain": [
       "(13000, 70)"
      ]
     },
     "execution_count": 15,
     "metadata": {},
     "output_type": "execute_result"
    }
   ],
   "source": [
    "# Pad the input: I use maxlen=60, just a bit over the median length.\n",
    "padded_char_sequences = pad_sequences(char_sequences, maxlen=max_char_seq_len)\n",
    "padded_char_sequences.shape"
   ]
  },
  {
   "cell_type": "markdown",
   "metadata": {},
   "source": [
    "# Train test Split"
   ]
  },
  {
   "cell_type": "code",
   "execution_count": 16,
   "metadata": {},
   "outputs": [
    {
     "name": "stdout",
     "output_type": "stream",
     "text": [
      "Train words X Size: (9100, 70)\n",
      "Val words X Size: (1950, 70)\n",
      "Test words X size: (1950, 70)\n",
      "----------------------------------------\n",
      "Train chars X Size: (9100, 70)\n",
      "Val chars X Size: (1950, 70)\n",
      "Test chars X size: (1950, 70)\n",
      "----------------------------------------\n",
      "Train Y Size: (9100, 13)\n",
      "Test Y size: (1950, 13)\n",
      "Val Y Size: (1950, 13)\n"
     ]
    }
   ],
   "source": [
    "# Get word level splits\n",
    "x_train_wor, x_test_wor, y_train, y_test1 = train_test_split(x_word, y, test_size=0.3, random_state=201)\n",
    "x_test_wor, x_val_wor , y_test, y_val = train_test_split(x_test_wor, y_test1, test_size=0.5, random_state=201)\n",
    "\n",
    "# Get character level splits\n",
    "x_train_char, x_test_char, _, _ = train_test_split(padded_char_sequences, y, test_size=0.3, random_state=201)\n",
    "x_test_char, x_val_char, _, _ = train_test_split(x_test_char, y_test1, test_size=0.5, random_state=201)\n",
    "\n",
    "print(\"Train words X Size:\", x_train_wor.shape)\n",
    "print(\"Val words X Size:\", x_val_wor.shape)\n",
    "print(\"Test words X size:\", x_test_wor.shape)\n",
    "print(\"----------------------------------------\")\n",
    "print(\"Train chars X Size:\", x_train_char.shape)\n",
    "print(\"Val chars X Size:\", x_val_char.shape)\n",
    "print(\"Test chars X size:\", x_test_char.shape)\n",
    "print(\"----------------------------------------\")\n",
    "print(\"Train Y Size:\", y_train.shape)\n",
    "print(\"Test Y size:\", y_test.shape)\n",
    "print(\"Val Y Size:\", y_val.shape)\n",
    "\n",
    "# TODO show DV dist for every sample"
   ]
  },
  {
   "cell_type": "markdown",
   "metadata": {},
   "source": [
    "# DV Distribution by dataset"
   ]
  },
  {
   "cell_type": "code",
   "execution_count": 17,
   "metadata": {},
   "outputs": [
    {
     "name": "stdout",
     "output_type": "stream",
     "text": [
      "Train DV distribution:-------------------------------------------------------------------- \n",
      "            0      1      2      3      4      5      6      7      8      9   \\\n",
      "counts   732.0  715.0  671.0  745.0  661.0  680.0  710.0  751.0  701.0  692.0   \n",
      "perc(%)    8.0    7.9    7.4    8.2    7.3    7.5    7.8    8.3    7.7    7.6   \n",
      "\n",
      "            10     11     12  \n",
      "counts   647.0  697.0  698.0  \n",
      "perc(%)    7.1    7.7    7.7  \n",
      "Val DV distribution:------------------------------------------------------------------------ \n",
      "            0      1      2      3      4      5      6      7      8      9   \\\n",
      "counts   162.0  146.0  143.0  145.0  173.0  136.0  164.0  140.0  137.0  155.0   \n",
      "perc(%)    8.3    7.5    7.3    7.4    8.9    7.0    8.4    7.2    7.0    7.9   \n",
      "\n",
      "            10     11     12  \n",
      "counts   155.0  153.0  141.0  \n",
      "perc(%)    7.9    7.8    7.2  \n",
      "Test DV distribution:------------------------------------------------------------------------ \n",
      "            0      1      2      3      4      5      6      7      8      9   \\\n",
      "counts   156.0  167.0  151.0  145.0  137.0  154.0  143.0  157.0  154.0  142.0   \n",
      "perc(%)    8.0    8.6    7.7    7.4    7.0    7.9    7.3    8.1    7.9    7.3   \n",
      "\n",
      "            10     11     12  \n",
      "counts   145.0  152.0  147.0  \n",
      "perc(%)    7.4    7.8    7.5  \n"
     ]
    }
   ],
   "source": [
    "# TODO: make reports, write to csv\n",
    "print(\"Train DV distribution:-------------------------------------------------------------------- \")\n",
    "print(mu.get_dv_dist(y_train))\n",
    "print(\"Val DV distribution:------------------------------------------------------------------------ \")\n",
    "print( mu.get_dv_dist(y_val))\n",
    "print(\"Test DV distribution:------------------------------------------------------------------------ \")\n",
    "print(mu.get_dv_dist(y_test))"
   ]
  },
  {
   "cell_type": "markdown",
   "metadata": {},
   "source": [
    "# Model"
   ]
  },
  {
   "cell_type": "code",
   "execution_count": 18,
   "metadata": {},
   "outputs": [
    {
     "name": "stdout",
     "output_type": "stream",
     "text": [
      "WARNING:tensorflow:From /usr/local/lib/python3.5/dist-packages/tensorflow/python/ops/resource_variable_ops.py:435: colocate_with (from tensorflow.python.framework.ops) is deprecated and will be removed in a future version.\n",
      "Instructions for updating:\n",
      "Colocations handled automatically by placer.\n",
      "Model: \"model_1\"\n",
      "__________________________________________________________________________________________________\n",
      "Layer (type)                    Output Shape         Param #     Connected to                     \n",
      "==================================================================================================\n",
      "input_1 (InputLayer)            (None, 70)           0                                            \n",
      "__________________________________________________________________________________________________\n",
      "input_2 (InputLayer)            (None, 70)           0                                            \n",
      "__________________________________________________________________________________________________\n",
      "embedding_1 (Embedding)         (None, 70, 30)       486840      input_1[0][0]                    \n",
      "__________________________________________________________________________________________________\n",
      "embedding_2 (Embedding)         (None, 70, 10)       320         input_2[0][0]                    \n",
      "__________________________________________________________________________________________________\n",
      "batch_normalization_1 (BatchNor (None, 70, 30)       120         embedding_1[0][0]                \n",
      "__________________________________________________________________________________________________\n",
      "batch_normalization_2 (BatchNor (None, 70, 10)       40          embedding_2[0][0]                \n",
      "__________________________________________________________________________________________________\n",
      "dropout_1 (Dropout)             (None, 70, 30)       0           batch_normalization_1[0][0]      \n",
      "__________________________________________________________________________________________________\n",
      "dropout_2 (Dropout)             (None, 70, 10)       0           batch_normalization_2[0][0]      \n",
      "__________________________________________________________________________________________________\n",
      "concatenate_1 (Concatenate)     (None, 70, 40)       0           dropout_1[0][0]                  \n",
      "                                                                 dropout_2[0][0]                  \n",
      "__________________________________________________________________________________________________\n",
      "spatial_dropout1d_1 (SpatialDro (None, 70, 40)       0           concatenate_1[0][0]              \n",
      "__________________________________________________________________________________________________\n",
      "bidirectional_1 (Bidirectional) (None, 70, 64)       18688       spatial_dropout1d_1[0][0]        \n",
      "__________________________________________________________________________________________________\n",
      "flatten_1 (Flatten)             (None, 4480)         0           bidirectional_1[0][0]            \n",
      "__________________________________________________________________________________________________\n",
      "dropout_3 (Dropout)             (None, 4480)         0           flatten_1[0][0]                  \n",
      "__________________________________________________________________________________________________\n",
      "dense_1 (Dense)                 (None, 50)           224050      dropout_3[0][0]                  \n",
      "__________________________________________________________________________________________________\n",
      "dropout_4 (Dropout)             (None, 50)           0           dense_1[0][0]                    \n",
      "__________________________________________________________________________________________________\n",
      "dense_2 (Dense)                 (None, 13)           663         dropout_4[0][0]                  \n",
      "==================================================================================================\n",
      "Total params: 730,721\n",
      "Trainable params: 730,641\n",
      "Non-trainable params: 80\n",
      "__________________________________________________________________________________________________\n"
     ]
    }
   ],
   "source": [
    "# This is the model architecture:\n",
    "# Embed words in custom word embedding layer\n",
    "# Embed characters in custom char level embedding leyer\n",
    "# Experiment with self attention (didn't give a good val loss)\n",
    "\n",
    "vocab_size = len(vocab)\n",
    "max_len_char = 10\n",
    "\n",
    "# input and embedding for words\n",
    "word_in = Input(shape=(max_len,))\n",
    "emb_word = Embedding(input_dim=vocab_size, output_dim=30,\n",
    "                     input_length=max_len, mask_zero=False, trainable=True)(word_in)\n",
    "bn_wemb = BatchNormalization()(emb_word)\n",
    "bn_wemb = Dropout(rate=0.4)(bn_wemb)\n",
    "\n",
    "#word_attn = SeqSelfAttention(attention_activation='sigmoid')(bn_wemb)\n",
    "#---------------------------------------------------------------------------------------------------------\n",
    "# input and embeddings for characters\n",
    "char_in = Input(shape=(max_char_seq_len,))\n",
    "emb_char = Embedding(input_dim=num_unique_symbols, output_dim=10,\n",
    "                           input_length=max_char_seq_len, mask_zero=False, trainable=True)(char_in)\n",
    "bn_cemb = BatchNormalization()(emb_char)\n",
    "bn_cemb = Dropout(rate=0.4)(bn_cemb)\n",
    "\n",
    "#---------------------------------------------------------------------------------------------------------\n",
    "# main LSTM\n",
    "x = concatenate([bn_wemb, bn_cemb])\n",
    "x = SpatialDropout1D(0.3)(x)\n",
    "main_lstm = Bidirectional(LSTM(units=32, return_sequences=True,\n",
    "                               recurrent_dropout=0.2))(x)\n",
    "#---------------------------------------------------------------------------------------------------------\n",
    "x = Flatten()(main_lstm)\n",
    "x = Dropout(rate=0.4)(x)\n",
    "x = Dense(50, activation=\"tanh\")(x)\n",
    "x = Dropout(rate=0.4)(x)\n",
    "out = Dense(n_classes, activation=\"softmax\")(x)\n",
    "\n",
    "model = Model([word_in, char_in], out)\n",
    "model.compile(optimizer=\"adam\", loss=\"categorical_crossentropy\", metrics=[\"accuracy\"])\n",
    "\n",
    "model.summary()"
   ]
  },
  {
   "cell_type": "markdown",
   "metadata": {},
   "source": [
    "# Train"
   ]
  },
  {
   "cell_type": "code",
   "execution_count": 20,
   "metadata": {},
   "outputs": [
    {
     "data": {
      "image/png": "[encoded data removed]",
      "text/plain": [
       "<Figure size 864x360 with 2 Axes>"
      ]
     },
     "metadata": {},
     "output_type": "display_data"
    }
   ],
   "source": [
    "# train LSTM\n",
    "history = model.fit([x_train_wor, x_train_char],\n",
    "                    y_train,\n",
    "                    batch_size=256, \n",
    "                    epochs=30, \n",
    "                    validation_data=([x_val_wor, x_val_char], y_val),\n",
    "                    #validation_split=0.1,\n",
    "                    verbose=0)\n",
    "mu.plot_history(history)"
   ]
  },
  {
   "cell_type": "markdown",
   "metadata": {},
   "source": [
    "Model overfits after about 12 epochs. This may be due to small dataset size "
   ]
  },
  {
   "cell_type": "code",
   "execution_count": 21,
   "metadata": {},
   "outputs": [
    {
     "name": "stdout",
     "output_type": "stream",
     "text": [
      "Training Accuracy:  97.18 %\n",
      "Training Loss:  0.09981335679376191\n",
      "Validation Accuracy:  73.69 %\n",
      "Validation Loss:  1.3610733182613666\n",
      "Test Accuracy:  73.28 %\n",
      "Test Loss:  1.4101107701277122\n"
     ]
    }
   ],
   "source": [
    "loss, accuracy = model.evaluate([x_train_wor, x_train_char], y_train, verbose=2)\n",
    "print(\"Training Accuracy: \", round(accuracy*100, 2),\"%\" )\n",
    "print(\"Training Loss: \", loss )\n",
    "loss, accuracy = model.evaluate([x_val_wor, x_val_char], y_val, verbose=2)\n",
    "print(\"Validation Accuracy: \", round(accuracy*100, 2),\"%\" )\n",
    "print(\"Validation Loss: \", loss )\n",
    "loss, accuracy = model.evaluate([x_test_wor, x_test_char], y_test, verbose=2)\n",
    "print(\"Test Accuracy: \", round(accuracy*100, 2),\"%\" )\n",
    "print(\"Test Loss: \", loss )"
   ]
  },
  {
   "cell_type": "code",
   "execution_count": 23,
   "metadata": {},
   "outputs": [
    {
     "name": "stdout",
     "output_type": "stream",
     "text": [
      "9100/9100 [==============================] - 12s 1ms/step\n",
      "1950/1950 [==============================] - 3s 1ms/step\n",
      "1950/1950 [==============================] - 3s 1ms/step\n"
     ]
    }
   ],
   "source": [
    "train_met, _,_,_,_ = mu.get_model_metrics(model, [x_train_wor, x_train_char], y_train)\n",
    "val_met, _,_,_,_ = mu.get_model_metrics(model, [x_val_wor, x_val_char], y_val)\n",
    "test_met, _,_,_,_ = mu.get_model_metrics(model, [x_test_wor, x_test_char], y_test)\n",
    "\n",
    "train_accu = train_met.loc['micro avg'][0]\n",
    "train_met = train_met.drop('micro avg', axis=0)\n",
    "test_accu = test_met.loc['micro avg'][0]\n",
    "test_met = test_met.drop('micro avg', axis=0)\n",
    "val_accu = val_met.loc['micro avg'][0]\n",
    "val_met = val_met.drop('micro avg', axis=0)"
   ]
  },
  {
   "cell_type": "code",
   "execution_count": 24,
   "metadata": {},
   "outputs": [
    {
     "name": "stdout",
     "output_type": "stream",
     "text": [
      "Train Precision (%):  [98.6, 95.6, 94.7, 99.7, 99.9, 97.4, 99.9, 96.9, 99.4, 90.0, 94.7, 99.3, 98.4]\n",
      "Train Recall (%):  [97.8, 97.6, 96.8, 99.7, 95.6, 99.3, 93.3, 95.2, 98.5, 97.2, 98.1, 96.3, 98.1]\n",
      "Train F1 (%):  [98.2, 96.6, 95.7, 99.7, 97.7, 98.3, 96.5, 96.0, 99.0, 93.4, 96.4, 97.8, 98.3]\n",
      "Train Accuracy (%):  97.18\n",
      "----------------------------------------------------------------------------------------------------\n",
      "Test Precision (%):  [81.9, 74.5, 65.4, 91.1, 64.0, 71.7, 77.7, 67.8, 77.3, 54.1, 72.9, 77.9, 80.6]\n",
      "Test Recall (%):  [78.2, 82.0, 60.0, 94.1, 70.1, 75.5, 60.0, 58.4, 75.3, 69.2, 79.0, 70.8, 76.1]\n",
      "Test F1 (%):  [80.0, 78.1, 62.6, 92.6, 66.9, 73.5, 67.7, 62.7, 76.3, 60.7, 75.8, 74.1, 78.3]\n",
      "Test Accuracy (%):  73.28\n",
      "----------------------------------------------------------------------------------------------------\n",
      "Val Precision (%):  [83.6, 75.0, 67.7, 92.2, 65.8, 74.4, 65.0, 66.9, 72.7, 61.5, 69.1, 85.6, 82.4]\n",
      "Val Recall (%):  [75.3, 84.2, 67.7, 92.8, 68.1, 81.1, 53.8, 60.7, 64.7, 72.0, 80.0, 73.7, 84.5]\n",
      "Val F1 (%):  [79.2, 79.4, 67.7, 92.5, 66.9, 77.6, 58.9, 63.6, 68.5, 66.3, 74.2, 79.2, 83.4]\n",
      "Val Accuracy (%):  73.69\n"
     ]
    }
   ],
   "source": [
    "print(\"Train Precision (%): \", list(round(train_met.precision*100, 1)))\n",
    "print(\"Train Recall (%): \", list(round(train_met.recall*100, 1)))\n",
    "print(\"Train F1 (%): \", list(round(train_met['f1-score']*100, 1)))\n",
    "print('Train Accuracy (%): ', round(train_accu*100, 2))\n",
    "print(\"----------------------------------------------------------------------------------------------------\")\n",
    "print(\"Test Precision (%): \", list(round(test_met.precision*100, 1)))\n",
    "print(\"Test Recall (%): \", list(round(test_met.recall*100, 1)))\n",
    "print(\"Test F1 (%): \", list(round(test_met['f1-score']*100, 1)))\n",
    "print('Test Accuracy (%): ', round(test_accu*100, 2))\n",
    "print(\"----------------------------------------------------------------------------------------------------\")\n",
    "print(\"Val Precision (%): \", list(round(val_met.precision*100, 1)))\n",
    "print(\"Val Recall (%): \", list(round(val_met.recall*100, 1)))\n",
    "print(\"Val F1 (%): \", list(round(val_met['f1-score']*100, 1)))\n",
    "print('Val Accuracy (%): ', round(val_accu*100, 2))\n"
   ]
  },
  {
   "cell_type": "markdown",
   "metadata": {},
   "source": [
    "# Assignment 3"
   ]
  },
  {
   "cell_type": "code",
   "execution_count": 25,
   "metadata": {},
   "outputs": [],
   "source": [
    "# Prepare data to score \n",
    "\n",
    "x_word_tensor = tu.make_tensor_np(dev.x_word, w2i, max_len)\n",
    "x_char_tensor = padded_char_sequences\n",
    "y_tensor = np.stack(dev.y.to_numpy())"
   ]
  },
  {
   "cell_type": "code",
   "execution_count": 26,
   "metadata": {},
   "outputs": [
    {
     "name": "stdout",
     "output_type": "stream",
     "text": [
      "13000/13000 [==============================] - 17s 1ms/step\n"
     ]
    }
   ],
   "source": [
    "# Score model\n",
    "met, y_pred, scores1, y_2nd_pred, scores2 = mu.get_model_metrics(model, [x_word_tensor, x_char_tensor], y=y_tensor)"
   ]
  },
  {
   "cell_type": "code",
   "execution_count": 27,
   "metadata": {},
   "outputs": [],
   "source": [
    "# Return mispredicted datapoints\n",
    "def return_mismatch_ind(act, pred):\n",
    "    ind = np.arange(len(act))[act != pred]\n",
    "    return ind\n",
    "\n",
    "mis_ind = return_mismatch_ind(dev.category_name, y_pred)"
   ]
  },
  {
   "cell_type": "code",
   "execution_count": 28,
   "metadata": {},
   "outputs": [],
   "source": [
    "mispredicted_df = dev.iloc[mis_ind].copy()\n",
    "mispredicted_df['pred_cat_1'] = y_pred[mis_ind]\n",
    "mispredicted_df['prob1'] = scores1[mis_ind]\n",
    "mispredicted_df['pred_cat_2'] = y_2nd_pred[mis_ind]\n",
    "mispredicted_df['prob2'] = scores2[mis_ind]\n",
    "mispredicted_df = mispredicted_df[['id', 'purpose', 'category_name', 'pred_cat_1', 'prob1', 'pred_cat_2', 'prob2']]\n",
    "mispredicted_df.columns = ['transaction_id', 'purpose', 'real_category', 'predicted_category_1', 'probability_1', 'predicted_category_2', 'probability_2']"
   ]
  },
  {
   "cell_type": "code",
   "execution_count": 29,
   "metadata": {},
   "outputs": [
    {
     "name": "stdout",
     "output_type": "stream",
     "text": [
      "Total # of mispredictions: 1291\n"
     ]
    }
   ],
   "source": [
    "print('Total # of mispredictions:', mispredicted_df.shape[0])\n",
    "mispredicted_df.to_csv(\"Mispredicted_transactions.csv\")"
   ]
  },
  {
   "cell_type": "code",
   "execution_count": null,
   "metadata": {},
   "outputs": [],
   "source": []
  }
 ],
 "metadata": {
  "kernelspec": {
   "display_name": "Python 3",
   "language": "python",
   "name": "python3"
  },
  "language_info": {
   "codemirror_mode": {
    "name": "ipython",
    "version": 3
   },
   "file_extension": ".py",
   "mimetype": "text/x-python",
   "name": "python",
   "nbconvert_exporter": "python",
   "pygments_lexer": "ipython3",
   "version": "3.6.8"
  }
 },
 "nbformat": 4,
 "nbformat_minor": 2
}
